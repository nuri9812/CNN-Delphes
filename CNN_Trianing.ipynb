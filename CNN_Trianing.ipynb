{
 "cells": [
  {
   "cell_type": "code",
   "execution_count": 1,
   "id": "0bb1cc23",
   "metadata": {},
   "outputs": [
    {
     "name": "stderr",
     "output_type": "stream",
     "text": [
      "2023-04-05 17:05:18.217640: I tensorflow/core/platform/cpu_feature_guard.cc:182] This TensorFlow binary is optimized to use available CPU instructions in performance-critical operations.\n",
      "To enable the following instructions: AVX2 AVX512F AVX512_VNNI FMA, in other operations, rebuild TensorFlow with the appropriate compiler flags.\n"
     ]
    }
   ],
   "source": [
    "from PIL import Image\n",
    "import os, glob\n",
    "import numpy as np\n",
    "from sklearn.model_selection import train_test_split\n",
    "from keras.models import Sequential\n",
    "from keras.layers import Convolution2D, MaxPooling2D\n",
    "from keras.layers import Activation, Dropout, Flatten, Dense\n",
    "from keras.callbacks import EarlyStopping\n",
    "import tensorflow as tf"
   ]
  },
  {
   "cell_type": "code",
   "execution_count": 2,
   "id": "f9766370",
   "metadata": {},
   "outputs": [],
   "source": [
    "def relu(x):\n",
    "    return max(0,x)\n",
    "\n",
    "def swish(x) :\n",
    "    return x * tf.nn.sigmoid(x)\n",
    "\n",
    "def mish(x) :\n",
    "    return x * tf.nn.tanh( tf.nn.softplus(x))"
   ]
  },
  {
   "cell_type": "code",
   "execution_count": null,
   "id": "bb2388da",
   "metadata": {},
   "outputs": [],
   "source": []
  },
  {
   "cell_type": "code",
   "execution_count": 3,
   "id": "94bf8a39",
   "metadata": {},
   "outputs": [],
   "source": [
    "dijet = np.load(\"jj_nbm.npy\",allow_pickle=True)\n",
    "tttt = np.load(\"tttt_nbm.npy\",allow_pickle=True)\n",
    "ttbar = np.load(\"ttbar_nbm.npy\",allow_pickle=True)\n",
    "ttjj = np.load(\"ttjj_nbm.npy\",allow_pickle=True)"
   ]
  },
  {
   "cell_type": "code",
   "execution_count": null,
   "id": "f4a43f5c",
   "metadata": {},
   "outputs": [],
   "source": []
  },
  {
   "cell_type": "code",
   "execution_count": 30,
   "id": "62a10f8c",
   "metadata": {},
   "outputs": [
    {
     "data": {
      "text/plain": [
       "array([[1., 0., 0., ..., 0., 0., 0.],\n",
       "       [0., 1., 0., ..., 0., 0., 0.],\n",
       "       [0., 0., 1., ..., 0., 0., 0.],\n",
       "       ...,\n",
       "       [0., 0., 0., ..., 1., 0., 0.],\n",
       "       [0., 0., 0., ..., 0., 1., 0.],\n",
       "       [0., 0., 0., ..., 0., 0., 1.]])"
      ]
     },
     "execution_count": 30,
     "metadata": {},
     "output_type": "execute_result"
    }
   ],
   "source": [
    "np.identity((32))"
   ]
  },
  {
   "cell_type": "code",
   "execution_count": null,
   "id": "cffdcc6e",
   "metadata": {},
   "outputs": [],
   "source": []
  },
  {
   "cell_type": "code",
   "execution_count": null,
   "id": "e8fbb990",
   "metadata": {},
   "outputs": [],
   "source": []
  },
  {
   "cell_type": "code",
   "execution_count": null,
   "id": "5bf5a9f0",
   "metadata": {},
   "outputs": [],
   "source": [
    "#data augmentation\n",
    "def augmentation(images,repeat):\n",
    "    copy = np.repeat(images, repeats=repeat)\n",
    "    noise = np.random.uniform(copy.shape)\n",
    "    \n"
   ]
  },
  {
   "cell_type": "code",
   "execution_count": null,
   "id": "dd296a1d",
   "metadata": {},
   "outputs": [],
   "source": []
  },
  {
   "cell_type": "code",
   "execution_count": 3,
   "id": "fe856479",
   "metadata": {},
   "outputs": [],
   "source": [
    "dijet_lab = []\n",
    "tttt_lab = []\n",
    "ttbar_lab = []\n",
    "ttjj_lab = []\n",
    "for ii in range(len(tttt)):\n",
    "    tttt_lab.append([1,0,0,0])\n",
    "\n",
    "for ii in range(len(dijet)):\n",
    "    dijet_lab.append([0,1,0,0])\n",
    "\n",
    "for ii in range(len(ttbar)):\n",
    "    ttbar_lab.append([0,0,1,0])\n",
    "\n",
    "for ii in range(len(ttjj)):\n",
    "    ttjj_lab.append([0,0,0,1])\n",
    "    \n",
    "dijet_label = np.array(dijet_lab)\n",
    "tttt_label = np.array(tttt_lab)\n",
    "ttbar_label = np.array(ttbar_lab)\n",
    "ttjj_label = np.array(ttjj_lab)"
   ]
  },
  {
   "cell_type": "code",
   "execution_count": 4,
   "id": "11b6d27e",
   "metadata": {},
   "outputs": [],
   "source": [
    "X = np.concatenate((dijet,tttt,ttbar,ttjj),axis=0)\n"
   ]
  },
  {
   "cell_type": "code",
   "execution_count": 5,
   "id": "01458ffd",
   "metadata": {},
   "outputs": [],
   "source": [
    "Y = np.concatenate((dijet_label,tttt_label,ttbar_label,ttjj_label),axis=0)"
   ]
  },
  {
   "cell_type": "code",
   "execution_count": null,
   "id": "8cf7703f",
   "metadata": {},
   "outputs": [],
   "source": []
  },
  {
   "cell_type": "code",
   "execution_count": null,
   "id": "14f39334",
   "metadata": {},
   "outputs": [],
   "source": []
  },
  {
   "cell_type": "code",
   "execution_count": null,
   "id": "b36a31d5",
   "metadata": {},
   "outputs": [],
   "source": []
  },
  {
   "cell_type": "code",
   "execution_count": null,
   "id": "b4d2c353",
   "metadata": {},
   "outputs": [],
   "source": []
  },
  {
   "cell_type": "code",
   "execution_count": 6,
   "id": "208364ad",
   "metadata": {},
   "outputs": [],
   "source": [
    "X_train, X_valtest, y_train, y_valtest = train_test_split(X, Y)\n",
    "X_val, X_test, y_val, y_test = train_test_split(X_valtest, y_valtest)\n"
   ]
  },
  {
   "cell_type": "code",
   "execution_count": 7,
   "id": "1866e0a7",
   "metadata": {},
   "outputs": [],
   "source": [
    "categories = [\"tttt\",\"dijet\",\"ttbar\",\"ttjj\"]\n",
    "nb_classes = len(categories)"
   ]
  },
  {
   "cell_type": "code",
   "execution_count": 9,
   "id": "996f1c17",
   "metadata": {},
   "outputs": [],
   "source": [
    "image_w = 32 \n",
    "image_h = 32"
   ]
  },
  {
   "cell_type": "code",
   "execution_count": null,
   "id": "8c18523e",
   "metadata": {},
   "outputs": [],
   "source": []
  },
  {
   "cell_type": "code",
   "execution_count": 10,
   "id": "dc4812cc",
   "metadata": {},
   "outputs": [],
   "source": [
    " X_train = X_train.astype(\"float\") / 256\n",
    "X_test  = X_test.astype(\"float\")  / 256\n",
    "X_val = X_val.astype(\"float\")  / 256"
   ]
  },
  {
   "cell_type": "code",
   "execution_count": 11,
   "id": "0f39c94f",
   "metadata": {},
   "outputs": [],
   "source": [
    "X_train_ts=X_train.transpose((0,2,3,1))[:,:,:,0]\n",
    "X_val_ts=X_val.transpose((0,2,3,1))[:,:,:,0]"
   ]
  },
  {
   "cell_type": "code",
   "execution_count": 310,
   "id": "84d385ed",
   "metadata": {},
   "outputs": [],
   "source": [
    "regul=tf.keras.regularizers.l2(0.7)\n"
   ]
  },
  {
   "cell_type": "code",
   "execution_count": 311,
   "id": "75c06d4d",
   "metadata": {},
   "outputs": [],
   "source": [
    "model = Sequential()\n",
    "model.add(Convolution2D(32, 2, 2, \n",
    "    input_shape=(32,32,1),kernel_regularizer=regul))\n",
    "model.add(Activation('elu'))\n",
    "model.add(MaxPooling2D(pool_size=(4, 4),strides=(1, 1), padding='valid'))\n",
    "model.add(Dropout(0.25))\n",
    "\n",
    "\n",
    "\n",
    "model.add(Convolution2D(64, 3, 3, kernel_regularizer=regul))\n",
    "model.add(Activation('elu'))\n",
    "model.add(Convolution2D(64, 3, 3))\n",
    "model.add(MaxPooling2D(pool_size=(4, 4),strides=(1, 1), padding='same'))\n",
    "model.add(Dropout(0.25))\n",
    "\n",
    "model.add(Flatten()) # --- (※3) \n",
    "model.add(Dense(512))\n",
    "model.add(Activation('elu'))\n",
    "model.add(Dropout(0.5))\n",
    "model.add(Dense(nb_classes))\n",
    "model.add(Activation('softmax'))\n",
    "\n",
    "model.compile(loss='binary_crossentropy',\n",
    "    optimizer='rmsprop',\n",
    "    metrics=['accuracy'])\n",
    "\n"
   ]
  },
  {
   "cell_type": "code",
   "execution_count": 312,
   "id": "c50f7363",
   "metadata": {},
   "outputs": [],
   "source": [
    "es = EarlyStopping(monitor='val_loss', mode='auto',restore_best_weights=True)"
   ]
  },
  {
   "cell_type": "code",
   "execution_count": 313,
   "id": "44d12681",
   "metadata": {},
   "outputs": [
    {
     "name": "stdout",
     "output_type": "stream",
     "text": [
      "Epoch 1/50\n",
      "9375/9375 [==============================] - 73s 8ms/step - loss: 0.4405 - accuracy: 0.6884 - val_loss: 0.3179 - val_accuracy: 0.7549\n",
      "Epoch 2/50\n",
      "9375/9375 [==============================] - 74s 8ms/step - loss: 0.3456 - accuracy: 0.7145 - val_loss: 0.3122 - val_accuracy: 0.7459\n",
      "Epoch 3/50\n",
      "9375/9375 [==============================] - 81s 9ms/step - loss: 0.3367 - accuracy: 0.7214 - val_loss: 0.3133 - val_accuracy: 0.7457\n"
     ]
    }
   ],
   "source": [
    "history = model.fit(X_train_ts, y_train, batch_size=32, epochs=50, validation_data = (X_val_ts,y_val), callbacks=es)\n",
    "\n",
    "#history = model.fit(X_train_ts, y_train, batch_size=32, epochs=7, validation_data = (X_val_ts,y_val))\n"
   ]
  },
  {
   "cell_type": "code",
   "execution_count": 314,
   "id": "575401f8",
   "metadata": {},
   "outputs": [],
   "source": [
    "import matplotlib.pyplot as plt"
   ]
  },
  {
   "cell_type": "code",
   "execution_count": 315,
   "id": "cd146103",
   "metadata": {},
   "outputs": [
    {
     "data": {
      "text/plain": [
       "<matplotlib.legend.Legend at 0x183a82d40>"
      ]
     },
     "execution_count": 315,
     "metadata": {},
     "output_type": "execute_result"
    },
    {
     "data": {
      "image/png": "[encoded data removed]",
      "text/plain": [
       "<Figure size 640x480 with 1 Axes>"
      ]
     },
     "metadata": {},
     "output_type": "display_data"
    }
   ],
   "source": [
    "plt.plot(history.history[\"accuracy\"], label = \"acc\")\n",
    "plt.plot(history.history[\"val_accuracy\"], label = \"val\")\n",
    "plt.legend()\n"
   ]
  },
  {
   "cell_type": "code",
   "execution_count": 316,
   "id": "e30848ff",
   "metadata": {},
   "outputs": [
    {
     "data": {
      "text/plain": [
       "<matplotlib.legend.Legend at 0x1865ecdc0>"
      ]
     },
     "execution_count": 316,
     "metadata": {},
     "output_type": "execute_result"
    },
    {
     "data": {
      "image/png": "[encoded data removed]",
      "text/plain": [
       "<Figure size 640x480 with 1 Axes>"
      ]
     },
     "metadata": {},
     "output_type": "display_data"
    }
   ],
   "source": [
    "plt.plot(history.history[\"loss\"], label = \"loss\")\n",
    "plt.plot(history.history[\"val_loss\"], label = \"val\")\n",
    "plt.legend()"
   ]
  },
  {
   "cell_type": "code",
   "execution_count": null,
   "id": "ff31edbb",
   "metadata": {},
   "outputs": [],
   "source": []
  },
  {
   "cell_type": "code",
   "execution_count": 317,
   "id": "3bb4ed43",
   "metadata": {},
   "outputs": [
    {
     "data": {
      "text/plain": [
       "{'loss': [0.44048011302948, 0.3456035554409027, 0.33671560883522034],\n",
       " 'accuracy': [0.6884333491325378, 0.7144666910171509, 0.7214499711990356],\n",
       " 'val_loss': [0.31789207458496094, 0.31216961145401, 0.31330353021621704],\n",
       " 'val_accuracy': [0.7548800110816956, 0.7458533048629761, 0.7457333207130432]}"
      ]
     },
     "execution_count": 317,
     "metadata": {},
     "output_type": "execute_result"
    }
   ],
   "source": [
    "history.history"
   ]
  },
  {
   "cell_type": "code",
   "execution_count": 318,
   "id": "6f90fa1c",
   "metadata": {},
   "outputs": [],
   "source": [
    "X_test_ts=X_test.transpose((0,2,3,1))[:,:,:,0]"
   ]
  },
  {
   "cell_type": "code",
   "execution_count": 319,
   "id": "7df172f8",
   "metadata": {},
   "outputs": [
    {
     "name": "stdout",
     "output_type": "stream",
     "text": [
      "782/782 [==============================] - 2s 2ms/step\n"
     ]
    }
   ],
   "source": [
    "y_pre = model.predict(X_test_ts)"
   ]
  },
  {
   "cell_type": "code",
   "execution_count": 320,
   "id": "86b479d5",
   "metadata": {},
   "outputs": [],
   "source": [
    "import matplotlib.pyplot as plt"
   ]
  },
  {
   "cell_type": "code",
   "execution_count": 321,
   "id": "cbc4db71",
   "metadata": {},
   "outputs": [
    {
     "data": {
      "image/png": "[encoded data removed]",
      "text/plain": [
       "<Figure size 640x480 with 4 Axes>"
      ]
     },
     "metadata": {},
     "output_type": "display_data"
    },
    {
     "data": {
      "text/plain": [
       "<Figure size 600x3000 with 0 Axes>"
      ]
     },
     "metadata": {},
     "output_type": "display_data"
    }
   ],
   "source": [
    "plt.subplot(2,2,1)\n",
    "\n",
    "plt.hist(y_pre[:,0][y_test[:,2] == 1], bins=10, label = \"ttbar\", range = (0,1))\n",
    "plt.hist(y_pre[:,0][y_test[:,0] == 1], bins=10, histtype = 'step',label=\"tttt\", range = (0,1))\n",
    "plt.hist(y_pre[:,0][y_test[:,1] == 1], bins=10, label = \"dijet\", range = (0,1))\n",
    "plt.hist(y_pre[:,0][y_test[:,3] == 1], bins=10, label = \"ttjj\", histtype = \"step\", range = (0,1))\n",
    "\n",
    "\n",
    "plt.title(\"tttt_score\")\n",
    "plt.yscale(\"log\")\n",
    "plt.legend()\n",
    "\n",
    "\n",
    "plt.subplot(2,2,2)\n",
    "\n",
    "plt.hist(y_pre[:,1][y_test[:,2] == 1], bins=10, label = \"ttbar\", range = (0,1))\n",
    "plt.hist(y_pre[:,1][y_test[:,0] == 1], bins=10, histtype = 'step',label=\"tttt\", range = (0,1))\n",
    "plt.hist(y_pre[:,1][y_test[:,1] == 1], bins=10, label = \"dijet\", range = (0,1))\n",
    "plt.hist(y_pre[:,1][y_test[:,3] == 1], bins=10, label = \"ttjj\", histtype = \"step\", range = (0,1))\n",
    "\n",
    "plt.title(\"dijet_score\")\n",
    "plt.yscale(\"log\")\n",
    "plt.legend()\n",
    "\n",
    "plt.subplot(2,2,3)\n",
    "\n",
    "\n",
    "plt.hist(y_pre[:,2][y_test[:,2] == 1], bins=10, label = \"ttbar\", range = (0,1))\n",
    "plt.hist(y_pre[:,2][y_test[:,0] == 1], bins=10, histtype = 'step',label=\"tttt\", range = (0,1))\n",
    "plt.hist(y_pre[:,2][y_test[:,1] == 1], bins=10, label = \"dijet\", range = (0,1))\n",
    "plt.hist(y_pre[:,2][y_test[:,3] == 1], bins=10, label = \"ttjj\", histtype = \"step\", range = (0,1))\n",
    "\n",
    "plt.title(\"ttbar_score\")\n",
    "plt.yscale(\"log\")\n",
    "plt.legend()\n",
    "\n",
    "plt.subplot(2,2,4)\n",
    "\n",
    "\n",
    "plt.hist(y_pre[:,3][y_test[:,2] == 1], bins=10, label = \"ttbar\", range = (0,1))\n",
    "plt.hist(y_pre[:,3][y_test[:,0] == 1], bins=10, histtype = 'step',label=\"tttt\", range = (0,1))\n",
    "plt.hist(y_pre[:,3][y_test[:,1] == 1], bins=10, label = \"dijet\", range = (0,1))\n",
    "plt.hist(y_pre[:,3][y_test[:,3] == 1], bins=10, label = \"ttjj\", histtype = \"step\", range = (0,1))\n",
    "\n",
    "plt.title(\"ttjj_score\")\n",
    "plt.yscale(\"log\")\n",
    "plt.legend()\n",
    "\n",
    "plt.figure(figsize=(6,30))\n",
    "plt.show()"
   ]
  },
  {
   "cell_type": "code",
   "execution_count": 322,
   "id": "39e83b00",
   "metadata": {},
   "outputs": [
    {
     "data": {
      "image/png": "[encoded data removed]",
      "text/plain": [
       "<Figure size 640x480 with 1 Axes>"
      ]
     },
     "metadata": {},
     "output_type": "display_data"
    }
   ],
   "source": [
    "plt.hist(y_pre[:,0][y_test[:,3] == 1], bins=10, label = \"ttjj\", range = (0,1), alpha = 0.5)\n",
    "\n",
    "plt.hist(y_pre[:,0][y_test[:,2] == 1], bins=10, label = \"ttbar\", range = (0,1), alpha = 0.5)\n",
    "plt.hist(y_pre[:,0][y_test[:,1] == 1], bins=10, label = \"dijet\", range = (0,1), alpha = 0.5)\n",
    "\n",
    "plt.hist(y_pre[:,0][y_test[:,0] == 1], bins=10, histtype = 'step',label=\"tttt\", range = (0,1))\n",
    "\n",
    "\n",
    "plt.title(\"score\")\n",
    "plt.yscale(\"log\")\n",
    "plt.legend()\n",
    "plt.show()"
   ]
  },
  {
   "cell_type": "code",
   "execution_count": null,
   "id": "dbcc6e61",
   "metadata": {},
   "outputs": [],
   "source": []
  },
  {
   "cell_type": "code",
   "execution_count": null,
   "id": "73270d48",
   "metadata": {},
   "outputs": [],
   "source": []
  },
  {
   "cell_type": "code",
   "execution_count": null,
   "id": "7e010ee2",
   "metadata": {},
   "outputs": [],
   "source": []
  },
  {
   "cell_type": "code",
   "execution_count": null,
   "id": "9766ffdb",
   "metadata": {},
   "outputs": [],
   "source": []
  },
  {
   "cell_type": "code",
   "execution_count": null,
   "id": "0936dcd6",
   "metadata": {},
   "outputs": [],
   "source": []
  }
 ],
 "metadata": {
  "kernelspec": {
   "display_name": "Python 3 (ipykernel)",
   "language": "python",
   "name": "python3"
  },
  "language_info": {
   "codemirror_mode": {
    "name": "ipython",
    "version": 3
   },
   "file_extension": ".py",
   "mimetype": "text/x-python",
   "name": "python",
   "nbconvert_exporter": "python",
   "pygments_lexer": "ipython3",
   "version": "3.10.8"
  }
 },
 "nbformat": 4,
 "nbformat_minor": 5
}
