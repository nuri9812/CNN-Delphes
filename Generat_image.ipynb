{
 "cells": [
  {
   "cell_type": "code",
   "execution_count": 2,
   "id": "c701d43b",
   "metadata": {},
   "outputs": [],
   "source": [
    "import uproot\n",
    "import numpy as np\n",
    "from tqdm import tqdm\n",
    "import matplotlib.pyplot as plt\n",
    "import matplotlib.cm as cm\n"
   ]
  },
  {
   "cell_type": "code",
   "execution_count": 3,
   "id": "e99d4ad5",
   "metadata": {},
   "outputs": [],
   "source": [
    "def PtEtaPhiToX(pt,eta,phi):\n",
    "    return(pt * np.cos(phi))\n",
    "    \n",
    "def PtEtaPhiToY(pt,eta,phi):\n",
    "    return(pt * np.sin(phi))\n",
    "\n",
    "def PtEtaPhiToZ(pt,eta,phi):\n",
    "    return(pt * np.sinh(eta))"
   ]
  },
  {
   "cell_type": "code",
   "execution_count": 4,
   "id": "d09fd38d",
   "metadata": {},
   "outputs": [],
   "source": [
    "def XYZToP(px,py,pz):\n",
    "    return(np.sqrt(px**2 + py**2 + pz**2))\n",
    "    \n",
    "def XYZToTheta(px,py,pz):\n",
    "    return(np.arccos(pz/XYZToP(px,py,pz)))\n",
    "\n",
    "def XYZToPhi(px,py,pz):\n",
    "    return(np.arctan(py/px))"
   ]
  },
  {
   "cell_type": "code",
   "execution_count": null,
   "id": "41cccc3e",
   "metadata": {},
   "outputs": [],
   "source": []
  },
  {
   "cell_type": "code",
   "execution_count": 5,
   "id": "1538218b",
   "metadata": {},
   "outputs": [],
   "source": [
    "def generate_figs(TTree):\n",
    "    #get information of all particles\n",
    "    part_px = TTree[\"Particle/Particle.Px\"].array()\n",
    "    part_py = TTree[\"Particle/Particle.Py\"].array()\n",
    "    part_pz = TTree[\"Particle/Particle.Pz\"].array()\n",
    "\n",
    "    part_energy = TTree[\"Particle/Particle.E\"].array()\n",
    "    part_mass = TTree[\"Particle/Particle.Mass\"].array()\n",
    "\n",
    "    part_status = TTree[\"Particle.Status\"].array()\n",
    "    \n",
    "    #extract final state particles\n",
    "    \n",
    "    final_px = part_px[part_status == 1]\n",
    "    final_py = part_py[part_status == 1]\n",
    "    final_pz = part_pz[part_status == 1]\n",
    "\n",
    "    final_e = part_energy[part_status == 1]\n",
    "    final_m = part_mass[part_status == 1]\n",
    "    \n",
    "    #convert x, y, z to p, theta, phi\n",
    "    final_absP=XYZToP(final_px,final_py,final_pz)\n",
    "    final_theta=XYZToTheta(final_px,final_py,final_pz)\n",
    "    final_Phi=XYZToPhi(final_px,final_py,final_pz)\n",
    "    \n",
    "    #generate figs event by event\n",
    "    figs = []\n",
    "    for evt in tqdm(range(100000)):\n",
    "        bins = (64,64)\n",
    "        A = np.array(np.array([np.array(final_absP[evt]),np.array(final_theta[evt]),np.array(np.array(final_Phi[evt]))]))\n",
    "        thetas = A[2]\n",
    "        phis = A[1]\n",
    "        energies = A[0]   \n",
    "        center = [np.average(thetas, weights=energies), np.average(phis,weights=energies)]\n",
    "        range_fig=[[center[0]-np.pi, center[0]+np.pi ],[center[1]-np.pi/2,center[1]+np.pi/2]]\n",
    "        histo, xedges, yedges =  np.histogram2d(thetas-center[0], phis-center[1], bins=bins, weights=A[0], range=range_fig)\n",
    "        figs.append(histo)\n",
    "    \n",
    "        # A: [p,theta,phi]\n",
    "    \n",
    "    return(np.array(figs))"
   ]
  },
  {
   "cell_type": "code",
   "execution_count": 6,
   "id": "a9267bd3",
   "metadata": {},
   "outputs": [],
   "source": [
    "def generate_figs(TTree):\n",
    "    #get information of all particles\n",
    "    part_px = TTree[\"Particle/Particle.Px\"].array()\n",
    "    part_py = TTree[\"Particle/Particle.Py\"].array()\n",
    "    part_pz = TTree[\"Particle/Particle.Pz\"].array()\n",
    "\n",
    "    part_energy = TTree[\"Particle/Particle.E\"].array()\n",
    "    part_mass = TTree[\"Particle/Particle.Mass\"].array()\n",
    "\n",
    "    part_status = TTree[\"Particle.Status\"].array()\n",
    "    \n",
    "    #extract final state particles\n",
    "    \n",
    "    final_px = part_px[part_status == 1]\n",
    "    final_py = part_py[part_status == 1]\n",
    "    final_pz = part_pz[part_status == 1]\n",
    "\n",
    "    final_e = part_energy[part_status == 1]\n",
    "    final_m = part_mass[part_status == 1]\n",
    "    \n",
    "    #convert x, y, z to p, theta, phi\n",
    "    final_absP=XYZToP(final_px,final_py,final_pz)\n",
    "    final_theta=XYZToTheta(final_px,final_py,final_pz)\n",
    "    final_Phi=XYZToPhi(final_px,final_py,final_pz)\n",
    "    \n",
    "    #get information of all jets\n",
    "    jets_btag = TTree[\"Jet/Jet.BTag\"].array()\n",
    "    \n",
    "    #evaluate Nb\n",
    "    nbm = np.sum(jets_btag,axis=1)\n",
    "    \n",
    "    #generate figs event by event\n",
    "    figs = []\n",
    "    for evt in tqdm(range(100000)):\n",
    "        bins = (64,64)\n",
    "        A = np.array(np.array([np.array(final_absP[evt]),np.array(final_theta[evt]),np.array(np.array(final_Phi[evt]))]))\n",
    "        thetas = A[2]\n",
    "        phis = A[1]\n",
    "        energies = A[0]   \n",
    "        center = [np.average(thetas, weights=energies), np.average(phis,weights=energies)]\n",
    "        range_fig=[[center[0]-np.pi, center[0]+np.pi ],[center[1]-np.pi/2,center[1]+np.pi/2]]\n",
    "        histo, xedges, yedges =  np.histogram2d(thetas-center[0], phis-center[1], bins=bins, weights=A[0], range=range_fig)\n",
    "        figs.append([histo,nbm[evt]])\n",
    "    \n",
    "        # A: [p,theta,phi]\n",
    "    \n",
    "    return(np.array(figs))"
   ]
  },
  {
   "cell_type": "code",
   "execution_count": 7,
   "id": "82f882f9",
   "metadata": {},
   "outputs": [],
   "source": [
    "dijet = uproot.open(\"./jj_inclusive.root\")\n",
    "tttt  = uproot.open(\"./tttt.root\")"
   ]
  },
  {
   "cell_type": "code",
   "execution_count": 8,
   "id": "54a30751",
   "metadata": {},
   "outputs": [],
   "source": [
    "TTree_dijet = dijet[\"Delphes\"]\n",
    "TTree_tttt  = tttt[\"Delphes\"]"
   ]
  },
  {
   "cell_type": "code",
   "execution_count": 9,
   "id": "64008c1b",
   "metadata": {},
   "outputs": [
    {
     "name": "stderr",
     "output_type": "stream",
     "text": [
      "100%|████████████████████████████████████████████████████████████████████████| 100000/100000 [01:28<00:00, 1132.75it/s]\n",
      "/var/folders/s1/5899n4dn09757b61s53dcg_r0000gn/T/ipykernel_60386/1329506419.py:47: VisibleDeprecationWarning: Creating an ndarray from ragged nested sequences (which is a list-or-tuple of lists-or-tuples-or ndarrays with different lengths or shapes) is deprecated. If you meant to do this, you must specify 'dtype=object' when creating the ndarray.\n",
      "  return(np.array(figs))\n"
     ]
    }
   ],
   "source": [
    "figs_dijet = generate_figs(TTree_dijet)"
   ]
  },
  {
   "cell_type": "code",
   "execution_count": 10,
   "id": "bc63b064",
   "metadata": {},
   "outputs": [
    {
     "name": "stderr",
     "output_type": "stream",
     "text": [
      "100%|████████████████████████████████████████████████████████████████████████| 100000/100000 [01:22<00:00, 1210.01it/s]\n",
      "/var/folders/s1/5899n4dn09757b61s53dcg_r0000gn/T/ipykernel_60386/1329506419.py:47: VisibleDeprecationWarning: Creating an ndarray from ragged nested sequences (which is a list-or-tuple of lists-or-tuples-or ndarrays with different lengths or shapes) is deprecated. If you meant to do this, you must specify 'dtype=object' when creating the ndarray.\n",
      "  return(np.array(figs))\n"
     ]
    }
   ],
   "source": [
    "figs_tttt = generate_figs(TTree_tttt)"
   ]
  },
  {
   "cell_type": "code",
   "execution_count": null,
   "id": "190a52f4",
   "metadata": {},
   "outputs": [],
   "source": []
  },
  {
   "cell_type": "code",
   "execution_count": null,
   "id": "eec3f1eb",
   "metadata": {},
   "outputs": [],
   "source": []
  },
  {
   "cell_type": "code",
   "execution_count": 11,
   "id": "2d33fe2f",
   "metadata": {},
   "outputs": [
    {
     "data": {
      "text/plain": [
       "<matplotlib.image.AxesImage at 0x54de6c910>"
      ]
     },
     "execution_count": 11,
     "metadata": {},
     "output_type": "execute_result"
    },
    {
     "data": {
      "image/png": "[encoded data removed]",
      "text/plain": [
       "<Figure size 640x480 with 2 Axes>"
      ]
     },
     "metadata": {},
     "output_type": "display_data"
    }
   ],
   "source": [
    "a = int(np.random.rand(1)*100000)\n",
    "plt.subplot(1,2,1)\n",
    "plt.imshow(figs_dijet[a][0], cmap=cm.gray_r)\n",
    "plt.subplot(1,2,2)\n",
    "plt.imshow(figs_tttt[a][0], cmap=cm.gray_r)"
   ]
  },
  {
   "cell_type": "code",
   "execution_count": 12,
   "id": "cb391486",
   "metadata": {},
   "outputs": [],
   "source": [
    "np.save(\"./tttt_nbm\",figs_tttt)"
   ]
  },
  {
   "cell_type": "code",
   "execution_count": 13,
   "id": "8c758bea",
   "metadata": {},
   "outputs": [],
   "source": [
    "np.save(\"./jj_nbm\",figs_dijet)"
   ]
  },
  {
   "cell_type": "code",
   "execution_count": null,
   "id": "e42a1d94",
   "metadata": {},
   "outputs": [],
   "source": []
  },
  {
   "cell_type": "code",
   "execution_count": null,
   "id": "dda4162b",
   "metadata": {},
   "outputs": [],
   "source": []
  },
  {
   "cell_type": "code",
   "execution_count": null,
   "id": "6c5c1a20",
   "metadata": {},
   "outputs": [],
   "source": []
  },
  {
   "cell_type": "code",
   "execution_count": null,
   "id": "b6de3e3a",
   "metadata": {},
   "outputs": [],
   "source": []
  }
 ],
 "metadata": {
  "kernelspec": {
   "display_name": "Python 3 (ipykernel)",
   "language": "python",
   "name": "python3"
  },
  "language_info": {
   "codemirror_mode": {
    "name": "ipython",
    "version": 3
   },
   "file_extension": ".py",
   "mimetype": "text/x-python",
   "name": "python",
   "nbconvert_exporter": "python",
   "pygments_lexer": "ipython3",
   "version": "3.10.8"
  }
 },
 "nbformat": 4,
 "nbformat_minor": 5
}
