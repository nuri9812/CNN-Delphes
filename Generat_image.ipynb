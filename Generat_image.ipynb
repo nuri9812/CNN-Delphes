{
 "cells": [
  {
   "cell_type": "code",
   "execution_count": 4,
   "id": "c701d43b",
   "metadata": {},
   "outputs": [],
   "source": [
    "import uproot\n",
    "import numpy as np\n",
    "from tqdm import tqdm\n",
    "import matplotlib.pyplot as plt\n",
    "import matplotlib.cm as cm\n"
   ]
  },
  {
   "cell_type": "code",
   "execution_count": 5,
   "id": "e99d4ad5",
   "metadata": {},
   "outputs": [],
   "source": [
    "def PtEtaPhiToX(pt,eta,phi):\n",
    "    return(pt * np.cos(phi))\n",
    "    \n",
    "def PtEtaPhiToY(pt,eta,phi):\n",
    "    return(pt * np.sin(phi))\n",
    "\n",
    "def PtEtaPhiToZ(pt,eta,phi):\n",
    "    return(pt * np.sinh(eta))"
   ]
  },
  {
   "cell_type": "code",
   "execution_count": 6,
   "id": "d09fd38d",
   "metadata": {},
   "outputs": [],
   "source": [
    "def XYZToP(px,py,pz):\n",
    "    return(np.sqrt(px**2 + py**2 + pz**2))\n",
    "    \n",
    "def XYZToTheta(px,py,pz):\n",
    "    return(np.arccos(pz/XYZToP(px,py,pz)))\n",
    "\n",
    "def XYZToPhi(px,py,pz):\n",
    "    return(np.arctan(py/px))"
   ]
  },
  {
   "cell_type": "code",
   "execution_count": null,
   "id": "41cccc3e",
   "metadata": {},
   "outputs": [],
   "source": []
  },
  {
   "cell_type": "code",
   "execution_count": 24,
   "id": "a9267bd3",
   "metadata": {},
   "outputs": [],
   "source": [
    "def generate_figs(TTree,nblayer_opt):\n",
    "    #get information of all particles\n",
    "    #part_px = TTree[\"Particle/Particle.Px\"].array()\n",
    "    #part_py = TTree[\"Particle/Particle.Py\"].array()\n",
    "    #part_pz = TTree[\"Particle/Particle.Pz\"].array()\n",
    "\n",
    "    part_energy = TTree[\"Particle/Particle.E\"].array()\n",
    "    part_mass = TTree[\"Particle/Particle.Mass\"].array()\n",
    "\n",
    "    part_status = TTree[\"Particle.Status\"].array()\n",
    "    \n",
    "    #extract final state particles\n",
    "    \n",
    "    #final_px = part_px[part_status == 1]\n",
    "    #final_py = part_py[part_status == 1]\n",
    "    #final_pz = part_pz[part_status == 1]\n",
    "\n",
    "    final_e = part_energy[part_status == 1]\n",
    "    final_m = part_mass[part_status == 1]\n",
    "    \n",
    "    #baseline cut (nb >= 3, HT>700, njet >= 9)\n",
    "    #njets = TTree_dijet[\"Jet\"].array()\n",
    "    jets_btag = TTree[\"Jet/Jet.BTag\"].array()\n",
    "    #HT = TTree_dijet[\"ScalarHT/ScalarHT.HT\"].array()\n",
    "    \n",
    "    nbm = np.sum(jets_btag,axis=1)\n",
    "    \n",
    "    \n",
    "    #convert x, y, z to p, theta, phi\n",
    "    #final_absP=XYZToP(final_px,final_py,final_pz)\n",
    "    #final_theta=XYZToTheta(final_px,final_py,final_pz)\n",
    "    #final_Phi=XYZToPhi(final_px,final_py,final_pz)\n",
    "    part_theta = TTree[\"Particle/Particle.Eta\"].array()\n",
    "    final_theta = part_theta[part_status == 1]\n",
    "    part_Phi = TTree[\"Particle/Particle.Phi\"].array()\n",
    "    final_Phi = part_theta[part_status == 1]\n",
    "\n",
    "    \n",
    "    #get information of all jets\n",
    "\n",
    "    \n",
    "\n",
    "\n",
    "    \n",
    "    #generate figs event by event\n",
    "    figs = []\n",
    "    for evt in tqdm(range(1000)):\n",
    "        bins = (32,32)\n",
    "        A = np.array(np.array([np.array(final_e[evt]),np.array(final_theta[evt]),np.array(np.array(final_Phi[evt]))]))\n",
    "        thetas = A[2]\n",
    "        phis = A[1]\n",
    "        energies = A[0]   \n",
    "        center = [np.average(thetas, weights=energies), np.average(phis,weights=energies)]\n",
    "        range_fig=[[center[0]-np.pi, center[0]+np.pi ],[center[1]-np.pi/2,center[1]+np.pi/2]]\n",
    "        histo, xedges, yedges =  np.histogram2d(thetas-center[0], phis-center[1], bins=bins, weights=A[0], range=range_fig)\n",
    "        if (nblayer_opt == 0):\n",
    "            nblayer = np.eye(32) * nbm[evt]\n",
    "        elif (nblayer_opt == 1):\n",
    "            nblayer = np.ones(histo.shape) * nbm[evt]\n",
    "        elif (nblayer_opt == 2):\n",
    "            nblayer = np.eye(32, k=3) * nbm[evt]\n",
    "\n",
    "\n",
    "\n",
    "            \n",
    "        fig = np.stack((histo, nblayer))\n",
    "        \n",
    "        figs.append(fig)\n",
    "    \n",
    "        # A: [p,theta,phi]\n",
    "    \n",
    "    \n",
    "    \n",
    "    return(np.array(figs))"
   ]
  },
  {
   "cell_type": "code",
   "execution_count": 25,
   "id": "82f882f9",
   "metadata": {},
   "outputs": [],
   "source": [
    "dijet = uproot.open(\"./jj_inclusive.root\")\n",
    "tttt  = uproot.open(\"./tttt.root\")\n",
    "ttbar  = uproot.open(\"./ttbar.root\")\n",
    "ttjj = uproot.open(\"./ttjj_inclusive.root\")"
   ]
  },
  {
   "cell_type": "code",
   "execution_count": 26,
   "id": "54a30751",
   "metadata": {},
   "outputs": [],
   "source": [
    "TTree_dijet = dijet[\"Delphes\"]\n",
    "TTree_tttt  = tttt[\"Delphes\"]\n",
    "TTree_ttbar  = ttbar[\"Delphes\"]\n",
    "TTree_ttjj = ttjj[\"Delphes\"]"
   ]
  },
  {
   "cell_type": "code",
   "execution_count": null,
   "id": "80eed083",
   "metadata": {},
   "outputs": [],
   "source": []
  },
  {
   "cell_type": "code",
   "execution_count": null,
   "id": "55450baf",
   "metadata": {},
   "outputs": [],
   "source": []
  },
  {
   "cell_type": "code",
   "execution_count": null,
   "id": "c5d21b43",
   "metadata": {},
   "outputs": [],
   "source": []
  },
  {
   "cell_type": "code",
   "execution_count": null,
   "id": "ead32951",
   "metadata": {},
   "outputs": [],
   "source": []
  },
  {
   "cell_type": "code",
   "execution_count": null,
   "id": "78a14a4b",
   "metadata": {},
   "outputs": [],
   "source": []
  },
  {
   "cell_type": "code",
   "execution_count": 27,
   "id": "478fe6ba",
   "metadata": {},
   "outputs": [
    {
     "name": "stderr",
     "output_type": "stream",
     "text": [
      "100%|████████████████| 1000/1000 [00:00<00:00, 1008.49it/s]\n"
     ]
    }
   ],
   "source": [
    "figs_ttbar_iden = generate_figs(TTree_ttbar, 0)\n",
    "\n",
    "\n",
    "\n"
   ]
  },
  {
   "cell_type": "code",
   "execution_count": null,
   "id": "00f140b0",
   "metadata": {},
   "outputs": [],
   "source": []
  },
  {
   "cell_type": "code",
   "execution_count": 28,
   "id": "64008c1b",
   "metadata": {},
   "outputs": [
    {
     "name": "stderr",
     "output_type": "stream",
     "text": [
      "100%|████████████████| 1000/1000 [00:00<00:00, 1057.83it/s]\n",
      "100%|█████████████████| 1000/1000 [00:01<00:00, 895.61it/s]\n"
     ]
    }
   ],
   "source": [
    "figs_ttbar_full = generate_figs(TTree_ttbar, 1)\n",
    "figs_ttbar_idenk3 = generate_figs(TTree_ttbar, 2)"
   ]
  },
  {
   "cell_type": "code",
   "execution_count": null,
   "id": "c7dd1123",
   "metadata": {},
   "outputs": [],
   "source": [
    "figs_dijet_iden = generate_figs(TTree_dijet, 0)\n",
    "figs_dijet_full = generate_figs(TTree_dijet, 1)\n",
    "figs_dijet_idenk3 = generate_figs(TTree_dijet, 2)"
   ]
  },
  {
   "cell_type": "code",
   "execution_count": null,
   "id": "8cce9e39",
   "metadata": {},
   "outputs": [],
   "source": []
  },
  {
   "cell_type": "code",
   "execution_count": null,
   "id": "bc63b064",
   "metadata": {},
   "outputs": [],
   "source": [
    "figs_tttt_iden = generate_figs(TTree_tttt, 0)\n",
    "figs_tttt_full = generate_figs(TTree_tttt, 1)\n",
    "figs_tttt_idenk3 = generate_figs(TTree_tttt, 2)"
   ]
  },
  {
   "cell_type": "code",
   "execution_count": null,
   "id": "190a52f4",
   "metadata": {},
   "outputs": [],
   "source": [
    "figs_ttjj_iden = generate_figs(TTree_ttjj, 0)\n",
    "figs_ttjj_full = generate_figs(TTree_ttjj, 1)\n",
    "figs_ttjj_idenk3 = generate_figs(TTree_ttjj, 2)"
   ]
  },
  {
   "cell_type": "code",
   "execution_count": null,
   "id": "eec3f1eb",
   "metadata": {},
   "outputs": [],
   "source": []
  },
  {
   "cell_type": "code",
   "execution_count": null,
   "id": "2d33fe2f",
   "metadata": {},
   "outputs": [],
   "source": [
    "a = int(np.random.rand(1)*1000)\n",
    "plt.subplot(2,2,1)\n",
    "plt.imshow(fig_ttjj[a][0], cmap=cm.gray_r)\n",
    "plt.title(\"ttjj\")\n",
    "plt.subplot(2,2,2)\n",
    "plt.imshow(figs_tttt[a][0], cmap=cm.gray_r)\n",
    "plt.title(\"tttt\")\n",
    "plt.subplot(2,2,3)\n",
    "plt.imshow(figs_ttbar[a][0], cmap=cm.gray_r)\n",
    "plt.title(\"tt\")\n",
    "plt.subplot(2,2,4)\n",
    "plt.imshow(figs_dijet[a][0], cmap=cm.gray_r)\n",
    "plt.title(\"jj\")"
   ]
  },
  {
   "cell_type": "code",
   "execution_count": 12,
   "id": "6501bf6d",
   "metadata": {},
   "outputs": [],
   "source": [
    "#a = int(np.random.rand(1)*100000)\n",
    "#plt.subplot(1,2,1)\n",
    "#plt.imshow(figs_dijet[a][0], cmap=cm.gray_r)\n",
    "#plt.subplot(1,2,2)\n",
    "#plt.imshow(figs_tttt[a][0], cmap=cm.gray_r)"
   ]
  },
  {
   "cell_type": "code",
   "execution_count": 19,
   "id": "cb391486",
   "metadata": {},
   "outputs": [],
   "source": [
    "#np.save(\"./tttt_nbm\",figs_tttt)\n",
    "#np.save(\"./jj_nbm\",figs_dijet)\n",
    "#np.save(\"./ttbar_nbm\",figs_ttbar)\n",
    "#np.save(\"./ttjj_nbm\",fig_ttjj)"
   ]
  },
  {
   "cell_type": "code",
   "execution_count": null,
   "id": "8c758bea",
   "metadata": {},
   "outputs": [],
   "source": []
  },
  {
   "cell_type": "code",
   "execution_count": null,
   "id": "e42a1d94",
   "metadata": {},
   "outputs": [],
   "source": []
  },
  {
   "cell_type": "code",
   "execution_count": null,
   "id": "dda4162b",
   "metadata": {},
   "outputs": [],
   "source": []
  },
  {
   "cell_type": "code",
   "execution_count": null,
   "id": "6c5c1a20",
   "metadata": {},
   "outputs": [],
   "source": []
  },
  {
   "cell_type": "code",
   "execution_count": null,
   "id": "b6de3e3a",
   "metadata": {},
   "outputs": [],
   "source": []
  }
 ],
 "metadata": {
  "kernelspec": {
   "display_name": "Python 3 (ipykernel)",
   "language": "python",
   "name": "python3"
  },
  "language_info": {
   "codemirror_mode": {
    "name": "ipython",
    "version": 3
   },
   "file_extension": ".py",
   "mimetype": "text/x-python",
   "name": "python",
   "nbconvert_exporter": "python",
   "pygments_lexer": "ipython3",
   "version": "3.10.8"
  }
 },
 "nbformat": 4,
 "nbformat_minor": 5
}
